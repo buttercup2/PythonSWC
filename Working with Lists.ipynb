{
 "cells": [
  {
   "cell_type": "code",
   "execution_count": 6,
   "metadata": {},
   "outputs": [
    {
     "name": "stdout",
     "output_type": "stream",
     "text": [
      "length: 5\n",
      "zeroth item is: 0.273\n"
     ]
    }
   ],
   "source": [
    "pressures = [0.273,0.275,0.277,0.275,0.276]\n",
    "print('length:', len(pressures))\n",
    "print('zeroth item is:', pressures[0])"
   ]
  },
  {
   "cell_type": "code",
   "execution_count": 11,
   "metadata": {},
   "outputs": [
    {
     "name": "stdout",
     "output_type": "stream",
     "text": [
      "zeroth item is now: 0.15\n"
     ]
    }
   ],
   "source": [
    "pressures[0]=0.15\n",
    "print('zeroth item is now:',pressures[0])"
   ]
  },
  {
   "cell_type": "code",
   "execution_count": 12,
   "metadata": {},
   "outputs": [
    {
     "name": "stdout",
     "output_type": "stream",
     "text": [
      "[0.15, 0.275, 0.277, 0.275, 0.276, 0.333]\n"
     ]
    }
   ],
   "source": [
    "pressures.append(0.333)\n",
    "print(pressures)"
   ]
  },
  {
   "cell_type": "code",
   "execution_count": 13,
   "metadata": {},
   "outputs": [
    {
     "name": "stdout",
     "output_type": "stream",
     "text": [
      "[0.15, 0.275, 0.277, 0.275, 0.276]\n"
     ]
    }
   ],
   "source": [
    "del pressures[-1]\n",
    "print(pressures)"
   ]
  },
  {
   "cell_type": "markdown",
   "metadata": {},
   "source": [
    "Let's explore forloops"
   ]
  },
  {
   "cell_type": "code",
   "execution_count": 16,
   "metadata": {},
   "outputs": [
    {
     "name": "stdout",
     "output_type": "stream",
     "text": [
      "0 0\n",
      "2 4\n",
      "5 25\n",
      "10 100\n"
     ]
    }
   ],
   "source": [
    "#'number' is not important, just a variable\n",
    "for number in [0,2,5,10]:\n",
    "    squared = number ** 2\n",
    "    print(number, squared)"
   ]
  },
  {
   "cell_type": "code",
   "execution_count": 18,
   "metadata": {},
   "outputs": [
    {
     "name": "stdout",
     "output_type": "stream",
     "text": [
      "Hi there\n",
      "Hi there\n",
      "Hi there\n",
      "Hi there\n",
      "Hi there\n",
      "Hi there\n",
      "Hi there\n",
      "Hi there\n",
      "Hi there\n",
      "Hi there\n",
      "55\n"
     ]
    }
   ],
   "source": [
    "# Sum of the first 10 integers\n",
    "count = 0\n",
    "\n",
    "for number in range(10):\n",
    "    count = count + (number +1)\n",
    "    print('Hi there')\n",
    "    \n",
    "print(count)"
   ]
  },
  {
   "cell_type": "markdown",
   "metadata": {},
   "source": [
    "Creating our own functions"
   ]
  },
  {
   "cell_type": "code",
   "execution_count": 20,
   "metadata": {},
   "outputs": [],
   "source": [
    "def print_greeting():\n",
    "    print('Hello there!')"
   ]
  },
  {
   "cell_type": "code",
   "execution_count": 22,
   "metadata": {},
   "outputs": [
    {
     "name": "stdout",
     "output_type": "stream",
     "text": [
      "Hello there!\n"
     ]
    }
   ],
   "source": [
    "print_greeting()"
   ]
  },
  {
   "cell_type": "code",
   "execution_count": 24,
   "metadata": {},
   "outputs": [],
   "source": [
    "def print_date(year, month, day):\n",
    "    joined = str(year) + '/' + str(month) + '/' + str(day)\n",
    "    print(joined)"
   ]
  },
  {
   "cell_type": "code",
   "execution_count": 26,
   "metadata": {},
   "outputs": [
    {
     "name": "stdout",
     "output_type": "stream",
     "text": [
      "2018/7/10\n"
     ]
    }
   ],
   "source": [
    "print_date(2018,7,10)"
   ]
  },
  {
   "cell_type": "code",
   "execution_count": 28,
   "metadata": {},
   "outputs": [],
   "source": [
    "def average(values):\n",
    "    if len(values) == 0:\n",
    "        return None\n",
    "    return sum(values)/len(values)"
   ]
  },
  {
   "cell_type": "code",
   "execution_count": 29,
   "metadata": {},
   "outputs": [
    {
     "name": "stdout",
     "output_type": "stream",
     "text": [
      "2.3333333333333335\n"
     ]
    }
   ],
   "source": [
    "a = average([1,2,4])\n",
    "print(a)"
   ]
  },
  {
   "cell_type": "code",
   "execution_count": 35,
   "metadata": {},
   "outputs": [
    {
     "name": "stdout",
     "output_type": "stream",
     "text": [
      "1 is not large\n",
      "2 is not large\n",
      "3 is medium\n",
      "4 is large\n",
      "5 is large\n"
     ]
    }
   ],
   "source": [
    "mass = [1,2,3,4,5]\n",
    "\n",
    "for m in mass:\n",
    "    if m > 3.0:\n",
    "        print(m, 'is large')\n",
    "    elif m == 3.0:\n",
    "        print(m, 'is medium')\n",
    "    else:\n",
    "        print(m, 'is not large')"
   ]
  },
  {
   "cell_type": "code",
   "execution_count": null,
   "metadata": {},
   "outputs": [],
   "source": []
  }
 ],
 "metadata": {
  "kernelspec": {
   "display_name": "Python 3",
   "language": "python",
   "name": "python3"
  },
  "language_info": {
   "codemirror_mode": {
    "name": "ipython",
    "version": 3
   },
   "file_extension": ".py",
   "mimetype": "text/x-python",
   "name": "python",
   "nbconvert_exporter": "python",
   "pygments_lexer": "ipython3",
   "version": "3.6.5"
  }
 },
 "nbformat": 4,
 "nbformat_minor": 2
}
